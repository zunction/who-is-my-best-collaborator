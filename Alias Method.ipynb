{
 "cells": [
  {
   "cell_type": "code",
   "execution_count": 1,
   "metadata": {
    "collapsed": true
   },
   "outputs": [],
   "source": [
    "import numpy        as np\n",
    "import numpy.random as npr"
   ]
  },
  {
   "cell_type": "code",
   "execution_count": 2,
   "metadata": {
    "collapsed": true
   },
   "outputs": [],
   "source": [
    "def alias_setup(probs):\n",
    "    K       = len(probs)\n",
    "    q       = np.zeros(K)\n",
    "    J       = np.zeros(K, dtype=np.int)\n",
    " \n",
    "    # Sort the data into the outcomes with probabilities\n",
    "    # that are larger and smaller than 1/K.\n",
    "    smaller = []\n",
    "    larger  = []\n",
    "    for kk, prob in enumerate(probs):\n",
    "        q[kk] = K*prob\n",
    "        if q[kk] < 1.0:\n",
    "            smaller.append(kk)\n",
    "        else:\n",
    "            larger.append(kk)\n",
    " \n",
    "    # Loop though and create little binary mixtures that\n",
    "    # appropriately allocate the larger outcomes over the\n",
    "    # overall uniform mixture.\n",
    "    while len(smaller) > 0 and len(larger) > 0:\n",
    "        small = smaller.pop()\n",
    "        large = larger.pop()\n",
    " \n",
    "        J[small] = large\n",
    "        q[large] = q[large] - (1.0 - q[small])\n",
    " \n",
    "        if q[large] < 1.0:\n",
    "            smaller.append(large)\n",
    "        else:\n",
    "            larger.append(large)\n",
    " \n",
    "    return J, q\n",
    " \n",
    "def alias_draw(J, q):\n",
    "    K  = len(J)\n",
    " \n",
    "    # Draw from the overall uniform mixture.\n",
    "    kk = int(np.floor(npr.rand()*K))\n",
    " \n",
    "    # Draw from the binary mixture, either keeping the\n",
    "    # small one, or choosing the associated larger one.\n",
    "    if npr.rand() < q[kk]:\n",
    "        return kk\n",
    "    else:\n",
    "        return J[kk]\n",
    " \n"
   ]
  },
  {
   "cell_type": "code",
   "execution_count": 3,
   "metadata": {
    "collapsed": true
   },
   "outputs": [],
   "source": [
    "probs = np.array([1/2,1/3,1/6])"
   ]
  },
  {
   "cell_type": "code",
   "execution_count": 5,
   "metadata": {
    "collapsed": false
   },
   "outputs": [
    {
     "name": "stdout",
     "output_type": "stream",
     "text": [
      "[0 0 1]\n",
      "[ 1.   0.5  0.5]\n"
     ]
    }
   ],
   "source": [
    "J, q = alias_setup(probs)\n",
    "print (J)\n",
    "print (q)"
   ]
  },
  {
   "cell_type": "code",
   "execution_count": 18,
   "metadata": {
    "collapsed": true
   },
   "outputs": [],
   "source": [
    "N = 1\n",
    "\n",
    "X = np.zeros(N)\n",
    "for nn in np.arange(N):\n",
    "    X[nn] = alias_draw(J, q)\n",
    "print(X)    "
   ]
  },
  {
   "cell_type": "code",
   "execution_count": null,
   "metadata": {
    "collapsed": true
   },
   "outputs": [],
   "source": []
  },
  {
   "cell_type": "code",
   "execution_count": null,
   "metadata": {
    "collapsed": true
   },
   "outputs": [],
   "source": [
    "K = 5\n",
    "N = 1000\n",
    " \n",
    "# Get a random probability vector.\n",
    "probs = npr.dirichlet(np.ones(K), 1).ravel()\n",
    " \n",
    "# Construct the table.\n",
    "J, q = alias_setup(probs)\n",
    " \n",
    "# Generate variates.\n",
    "X = np.zeros(N)\n",
    "for nn in xrange(N):\n",
    "    X[nn] = alias_draw(J, q)"
   ]
  },
  {
   "cell_type": "code",
   "execution_count": null,
   "metadata": {
    "collapsed": true
   },
   "outputs": [],
   "source": []
  },
  {
   "cell_type": "code",
   "execution_count": null,
   "metadata": {
    "collapsed": true
   },
   "outputs": [],
   "source": []
  }
 ],
 "metadata": {
  "kernelspec": {
   "display_name": "Python [conda root]",
   "language": "python",
   "name": "conda-root-py"
  },
  "language_info": {
   "codemirror_mode": {
    "name": "ipython",
    "version": 3
   },
   "file_extension": ".py",
   "mimetype": "text/x-python",
   "name": "python",
   "nbconvert_exporter": "python",
   "pygments_lexer": "ipython3",
   "version": "3.5.2"
  }
 },
 "nbformat": 4,
 "nbformat_minor": 1
}
